{
 "cells": [
  {
   "cell_type": "code",
   "execution_count": 1,
   "metadata": {
    "collapsed": true
   },
   "outputs": [],
   "source": [
    "from sklearn import model_selection\n",
    "from sklearn.model_selection import train_test_split\n",
    "from PIL import Image\n",
    "from PIL import ImageFile\n",
    "ImageFile.LOAD_TRUNCATED_IMAGES = True\n",
    "#import Image\n",
    "import os, glob\n",
    "import numpy as np"
   ]
  },
  {
   "cell_type": "code",
   "execution_count": 2,
   "metadata": {
    "collapsed": true
   },
   "outputs": [],
   "source": [
    "root_dir = \"./image/AVANTE/\"\n",
    "#categories = [\"EF\",\"LF\",\"NEW EF\",\"NF\",\"YF\",\"뉴쏘나타\",\"쏘나타2\",\"쏘나타2.0(신형)\",\"쏘나타2.0(트랜스폼)\",\"쏘나타3\"]\n",
    "#categories = [\"YF\",\"쏘나타2.0(신형)\"]\n",
    "categories = [\"THE_NEW_AVANTE\",\"아반떼 1.5\",\"아반떼 1.6 VGT\",\"아반떼 1.6 VVT\",\"아반떼 하이브리드\",\"아반떼AD\",\"아반떼MD\",\"아반떼XD\",\"올뉴 아반떼\"]\n",
    "#categories = [\"아반떼MD\",\"아반떼XD\"]\n",
    "nb_classes = len(categories)\n",
    "image_size = 50"
   ]
  },
  {
   "cell_type": "code",
   "execution_count": 3,
   "metadata": {},
   "outputs": [
    {
     "name": "stdout",
     "output_type": "stream",
     "text": [
      "--- THE_NEW_AVANTE 처리 중\n",
      "--- 아반떼 1.5 처리 중\n",
      "--- 아반떼 1.6 VGT 처리 중\n",
      "--- 아반떼 1.6 VVT 처리 중\n",
      "--- 아반떼 하이브리드 처리 중\n",
      "--- 아반떼AD 처리 중\n",
      "--- 아반떼MD 처리 중\n",
      "--- 아반떼XD 처리 중\n",
      "--- 올뉴 아반떼 처리 중\n",
      "ok, 2699\n"
     ]
    }
   ],
   "source": [
    "X = []\n",
    "Y = []\n",
    "\n",
    "for idx, cat in enumerate(categories):\n",
    "    image_dir = root_dir + \"/\" + cat\n",
    "    files = glob.glob(image_dir + \"/*.jpg\")\n",
    "    print(\"---\", cat, \"처리 중\")\n",
    "    for i, f in enumerate(files):\n",
    "        img = Image.open(f)\n",
    "        img = img.convert(\"RGB\")\n",
    "        img = img.resize((image_size, image_size))\n",
    "        data = np.asarray(img)\n",
    "        X.append(data)\n",
    "        Y.append(idx)\n",
    "\n",
    "X = np.array(X)\n",
    "Y = np.array(Y)\n",
    "\n",
    "X_train, X_test, y_train, y_test = \\\n",
    "    train_test_split(X,Y)\n",
    "xy = (X_train, X_test, y_train, y_test)\n",
    "np.save(\"./image/testAVANTE.npy\", xy)\n",
    "print(\"ok,\", len(Y))"
   ]
  },
  {
   "cell_type": "code",
   "execution_count": null,
   "metadata": {
    "collapsed": true
   },
   "outputs": [],
   "source": []
  },
  {
   "cell_type": "code",
   "execution_count": null,
   "metadata": {
    "collapsed": true
   },
   "outputs": [],
   "source": []
  }
 ],
 "metadata": {
  "kernelspec": {
   "display_name": "Python 3",
   "language": "python",
   "name": "python3"
  },
  "language_info": {
   "codemirror_mode": {
    "name": "ipython",
    "version": 3
   },
   "file_extension": ".py",
   "mimetype": "text/x-python",
   "name": "python",
   "nbconvert_exporter": "python",
   "pygments_lexer": "ipython3",
   "version": "3.5.4"
  }
 },
 "nbformat": 4,
 "nbformat_minor": 2
}
