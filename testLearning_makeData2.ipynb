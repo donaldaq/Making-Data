{
 "cells": [
  {
   "cell_type": "code",
   "execution_count": 13,
   "metadata": {
    "collapsed": true
   },
   "outputs": [],
   "source": [
    "from PIL import Image\n",
    "import os, glob\n",
    "import numpy as np\n",
    "import random, math"
   ]
  },
  {
   "cell_type": "code",
   "execution_count": 14,
   "metadata": {
    "collapsed": true
   },
   "outputs": [],
   "source": [
    "root_dir = \"./image/\"\n",
    "categories = [\"fingerprint\",\"automobile_cluster\"]\n",
    "nb_classes = len(categories)\n",
    "image_size = 50"
   ]
  },
  {
   "cell_type": "code",
   "execution_count": 15,
   "metadata": {},
   "outputs": [],
   "source": [
    "X = [] \n",
    "Y = []\n",
    "def add_sample(cat, fname, is_train):\n",
    "    img = Image.open(fname)\n",
    "    img = img.convert(\"RGB\")\n",
    "    img = img.resize((image_size, image_size))\n",
    "    data = np.array(img)\n",
    "    X.append(data)\n",
    "    Y.append(cat)\n",
    "    if not is_train: return\n",
    "    \n",
    "    for ang in range(-20, 20, 5):\n",
    "        img2 = img.rotate(ang)\n",
    "        data = np.array(img2)\n",
    "        X.append(data)\n",
    "        Y.append(cat)\n",
    "        # img2.save(\"automobile_cluster\")\n",
    "        img2 = img2.transpose(Image.FLIP_LEFT_RIGHT)\n",
    "        data = np.asarray(img2)\n",
    "        X.append(data)\n",
    "        Y.append(cat)\n",
    "        \n",
    "def make_sample(files, is_train):\n",
    "    global X, Y\n",
    "    X = []; Y = []\n",
    "    for cat, fname in files:\n",
    "        add_sample(cat, fname, is_train)\n",
    "    return np.array(X), np.array(Y)\n",
    "\n",
    "allfiles = []\n",
    "for idx, cat in enumerate(categories):\n",
    "    image_dir = root_dir + \"/\" + cat\n",
    "    files = glob.glob(image_dir + \"/*.JPG\")\n",
    "    for f in files:\n",
    "        allfiles.append((idx, f))\n",
    "        \n"
   ]
  },
  {
   "cell_type": "code",
   "execution_count": 16,
   "metadata": {},
   "outputs": [
    {
     "name": "stderr",
     "output_type": "stream",
     "text": [
      "C:\\Users\\donaldaq\\Anaconda3\\envs\\tensorflow\\lib\\site-packages\\PIL\\Image.py:931: UserWarning: Palette images with Transparency   expressed in bytes should be converted to RGBA images\n",
      "  'to RGBA images')\n"
     ]
    },
    {
     "name": "stdout",
     "output_type": "stream",
     "text": [
      "ok, 11390\n"
     ]
    }
   ],
   "source": [
    "random.shuffle(allfiles)\n",
    "th = math.floor(len(allfiles) * 0.6)\n",
    "train = allfiles[0:th]\n",
    "test  = allfiles[th:]\n",
    "X_train, y_train = make_sample(train, True)\n",
    "X_test, y_test = make_sample(test, False)\n",
    "xy = (X_train, X_test, y_train, y_test)\n",
    "np.save(\"./image/testRoateLearning.npy\", xy)\n",
    "print(\"ok,\", len(y_train))"
   ]
  },
  {
   "cell_type": "code",
   "execution_count": null,
   "metadata": {
    "collapsed": true
   },
   "outputs": [],
   "source": []
  }
 ],
 "metadata": {
  "kernelspec": {
   "display_name": "Python 3",
   "language": "python",
   "name": "python3"
  },
  "language_info": {
   "codemirror_mode": {
    "name": "ipython",
    "version": 3
   },
   "file_extension": ".py",
   "mimetype": "text/x-python",
   "name": "python",
   "nbconvert_exporter": "python",
   "pygments_lexer": "ipython3",
   "version": "3.5.4"
  }
 },
 "nbformat": 4,
 "nbformat_minor": 2
}
